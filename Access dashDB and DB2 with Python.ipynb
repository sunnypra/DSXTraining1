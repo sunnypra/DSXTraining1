{
    "metadata": {
        "kernelspec": {
            "language": "python", 
            "display_name": "Python 2 with Spark 2.0", 
            "name": "python2-spark20"
        }, 
        "language_info": {
            "nbconvert_exporter": "python", 
            "name": "python", 
            "pygments_lexer": "ipython2", 
            "version": "2.7.11", 
            "file_extension": ".py", 
            "codemirror_mode": {
                "version": 2, 
                "name": "ipython"
            }, 
            "mimetype": "text/x-python"
        }
    }, 
    "nbformat_minor": 1, 
    "cells": [
        {
            "metadata": {}, 
            "cell_type": "markdown", 
            "source": "# Access dashDB and DB2 with Python\n\nThis notebook shows how to access a dashDB data warehouse or DB2 database when using Python. The examples use a dashDB warehouse, but the instructions apply to both dashDB and DB2.\n\n## Table of contents\n\n1. [Setup](#Setup) \n1. [Import the *ibmdbpy* Python library](#Import-the-ibmdbpy-Python-library)\n1. [Identify and enter the database connection credentials](#Identify-and-enter-the-database-connection-credentials)\n1. [Create the database connection](#Create-the-database-connection)\n1. [Use dataframe to read and manipulate tables](#Use-dataframe-to-read-and-manipulate-tables)\n1. [Close the database connection](#Close-the-database-connection)\n1. [Summary](#Summary)\n\n\n## Setup\n\nBefore beginning you will need a *dashDB* warehouse. dashDB is a fully managed cloud data warehouse, purpose-built for analytics. It offers massively parallel processing (MPP) scale and compatibility with a wide range of business intelligence (BI) tools.  \n\n[Try dashDB free of charge on IBM Bluemix.](https://console.ng.bluemix.net/catalog/services/dashdb)\n\n<a class=\"ibm-tooltip\" href=\"https://console.ng.bluemix.net/catalog/services/dashdb\" target=\"_blank\" title=\"\" id=\"ibm-tooltip-0\">\n<img alt=\"IBM Bluemix.Get started now\" height=\"193\" width=\"153\" src=\"https://ibm.box.com/shared/static/42yt39czuksqdi278xpy96txtlw3lfmb.png\" >\n</a>\n\n\n\n\n\n## Import the *ibmdbpy* Python library\n\nPython support for dashDB and DB2 is provided by the [ibmdbpy Python library](https://pypi.python.org/pypi/ibmdbpy). Connecting to dashDB or DB2 is also enabled by a DB2 driver, libdb2.so.\n\nThe JDBC Connection is based on a Java virtual machine. From the ibmdbpy library you can use JDBC to connect to a remote dashDB/DB2 instance. To be able to use JDBC to connect, we need to import the *JayDeBeApi* package.\n\nRun the following commands to install and load the JayDeBeApi package and the ibmdbpy library into your notebook:"
        }, 
        {
            "execution_count": 1, 
            "outputs": [
                {
                    "output_type": "stream", 
                    "name": "stdout", 
                    "text": "Requirement already satisfied: jaydebeapi in /usr/local/src/bluemix_jupyter_bundle.v49/notebook/lib/python2.7/site-packages\nRequirement already satisfied: JPype1 in /usr/local/src/bluemix_jupyter_bundle.v49/notebook/lib/python2.7/site-packages (from jaydebeapi)\nRequirement already satisfied: ibmdbpy in /usr/local/src/bluemix_jupyter_bundle.v49/notebook/lib/python2.7/site-packages\nRequirement already satisfied: future in /usr/local/src/bluemix_jupyter_bundle.v49/notebook/lib/python2.7/site-packages (from ibmdbpy)\nRequirement already satisfied: pandas in /usr/local/src/bluemix_jupyter_bundle.v49/notebook/lib/python2.7/site-packages (from ibmdbpy)\nRequirement already satisfied: numpy in /usr/local/src/bluemix_jupyter_bundle.v49/notebook/lib/python2.7/site-packages (from ibmdbpy)\nRequirement already satisfied: pypyodbc in /usr/local/src/bluemix_jupyter_bundle.v49/notebook/lib/python2.7/site-packages (from ibmdbpy)\nRequirement already satisfied: lazy in /usr/local/src/bluemix_jupyter_bundle.v49/notebook/lib/python2.7/site-packages (from ibmdbpy)\nRequirement already satisfied: six in /usr/local/src/bluemix_jupyter_bundle.v49/notebook/lib/python2.7/site-packages (from ibmdbpy)\nRequirement already satisfied: python-dateutil in /usr/local/src/bluemix_jupyter_bundle.v49/notebook/lib/python2.7/site-packages (from pandas->ibmdbpy)\nRequirement already satisfied: pytz>=2011k in /usr/local/src/bluemix_jupyter_bundle.v49/notebook/lib/python2.7/site-packages (from pandas->ibmdbpy)\nRequirement already satisfied: setuptools in /usr/local/src/bluemix_jupyter_bundle.v49/notebook/lib/python2.7/site-packages (from pypyodbc->ibmdbpy)\n"
                }
            ], 
            "cell_type": "code", 
            "source": "!pip install jaydebeapi --user  \n!pip install ibmdbpy --user ", 
            "metadata": {}
        }, 
        {
            "execution_count": 2, 
            "outputs": [], 
            "cell_type": "code", 
            "source": "import jaydebeapi\nfrom ibmdbpy import IdaDataBase\nfrom ibmdbpy import IdaDataFrame", 
            "metadata": {
                "collapsed": true
            }
        }, 
        {
            "execution_count": 3, 
            "outputs": [], 
            "cell_type": "code", 
            "source": "import os\nos.environ['CLASSPATH'] = \"/usr/local/src/data-connectors-1.4.1/db2jcc4-10.5.0.6.jar\"", 
            "metadata": {
                "collapsed": true
            }
        }, 
        {
            "execution_count": 4, 
            "outputs": [], 
            "cell_type": "code", 
            "source": "import jpype\nargs='-Djava.class.path=%s' % os.environ['CLASSPATH']\njvm = jpype.getDefaultJVMPath()\njpype.startJVM(jvm, args)", 
            "metadata": {
                "collapsed": true
            }
        }, 
        {
            "metadata": {}, 
            "cell_type": "markdown", 
            "source": "\n## Identify and enter the database connection credentials\n\nConnecting to dashDB or a DB2 database requires the following information:\n* Database name \n* Host DNS name or IP address \n* Host port\n* Connection protocol\n* User ID\n* User password\n\nAll of this information must be captured in a connection string in a subsequent step. Provide the dashDB or DB2 connection information as shown:"
        }, 
        {
            "execution_count": 7, 
            "outputs": [], 
            "cell_type": "code", 
            "source": "dsn_uid = \"dash14105\";  # e.g.  dash104434\ndsn_pwd = \"f6441a790210\"   # e.g. xxxx\ndsn_hostname =\"dashdb-entry-yp-dal09-08.services.dal.bluemix.net\"  # e.g.  awh-yp-small03.services.dal.bluemix.net\ndsn_port = \"50000\"   # e.g.  50001\ndsn_database = \"BLUDB\"   # e.g. BLUDB ", 
            "metadata": {}
        }, 
        {
            "metadata": {}, 
            "cell_type": "markdown", 
            "source": "## Create the database connection\n\nThe following code snippet creates a connection string `connection_string`\nand uses the `connection_string` to create a DB2 connection object:\n"
        }, 
        {
            "execution_count": 8, 
            "outputs": [], 
            "cell_type": "code", 
            "source": "connection_string='jdbc:db2://'+dsn_hostname+':'+dsn_port+'/'+dsn_database+':user='+dsn_uid+';password='+dsn_pwd+\";\" \nidadb=IdaDataBase(dsn=connection_string)", 
            "metadata": {}
        }, 
        {
            "metadata": {}, 
            "cell_type": "markdown", 
            "source": "## Use dataframe to read and manipulate tables\n\nYou can now use the connection object `conn` to query the database:"
        }, 
        {
            "execution_count": 19, 
            "outputs": [
                {
                    "output_type": "execute_result", 
                    "metadata": {}, 
                    "data": {
                        "text/html": "<div>\n<table border=\"1\" class=\"dataframe\">\n  <thead>\n    <tr style=\"text-align: right;\">\n      <th></th>\n      <th>TABSCHEMA</th>\n      <th>TABNAME</th>\n      <th>OWNER</th>\n      <th>TYPE</th>\n    </tr>\n  </thead>\n  <tbody>\n    <tr>\n      <th>0</th>\n      <td>DASH14105</td>\n      <td>MYTABLE</td>\n      <td>DASH14105</td>\n      <td>T</td>\n    </tr>\n    <tr>\n      <th>1</th>\n      <td>DASH14105</td>\n      <td>RANDOM_DATA</td>\n      <td>DASH14105</td>\n      <td>T</td>\n    </tr>\n    <tr>\n      <th>2</th>\n      <td>GOSALES</td>\n      <td>BRANCH</td>\n      <td>DB2INST1</td>\n      <td>T</td>\n    </tr>\n    <tr>\n      <th>3</th>\n      <td>GOSALES</td>\n      <td>CONVERSION_RATE</td>\n      <td>DB2INST1</td>\n      <td>T</td>\n    </tr>\n    <tr>\n      <th>4</th>\n      <td>GOSALES</td>\n      <td>COUNTRY</td>\n      <td>DB2INST1</td>\n      <td>T</td>\n    </tr>\n  </tbody>\n</table>\n</div>", 
                        "text/plain": "   TABSCHEMA          TABNAME      OWNER TYPE\n0  DASH14105          MYTABLE  DASH14105    T\n1  DASH14105      RANDOM_DATA  DASH14105    T\n2    GOSALES           BRANCH   DB2INST1    T\n3    GOSALES  CONVERSION_RATE   DB2INST1    T\n4    GOSALES          COUNTRY   DB2INST1    T"
                    }, 
                    "execution_count": 19
                }
            ], 
            "cell_type": "code", 
            "source": "df=idadb.show_tables(show_all = True)\ndf.head(5)", 
            "metadata": {}
        }, 
        {
            "execution_count": 20, 
            "outputs": [
                {
                    "output_type": "execute_result", 
                    "metadata": {}, 
                    "data": {
                        "text/plain": "True"
                    }, 
                    "execution_count": 20
                }
            ], 
            "cell_type": "code", 
            "source": "idadb.exists_table_or_view('DASH14105.MYTABLE')", 
            "metadata": {}
        }, 
        {
            "metadata": {}, 
            "cell_type": "markdown", 
            "source": "Using our previously opened IdaDataBase instance named \u2018idadb\u2019, we can open one or several IdaDataFrame objects. They behave like pointers to remote tables.\n\nLet us open the *EMP_EXPENSE_FACT* data set, assuming it is stored in the database under the name \u2018GOSALESDW.EMP_EXPENSE_FACT\u2019. The following cell assigns the dataset to a pandas DataFrame.\n\nThe [Pandas data analysis library](http://pandas.pydata.org/) provides high-performance, easy-to-use data structures and data analysis tools for the Python programming language. Pandas allows easy processing and manipulation of tabular data, so it is a perfect fit for data extracted from relational databases.\n"
        }, 
        {
            "execution_count": 21, 
            "outputs": [], 
            "cell_type": "code", 
            "source": "idadf = IdaDataFrame(idadb, 'DASH14105.MYTABLE')", 
            "metadata": {}
        }, 
        {
            "metadata": {}, 
            "cell_type": "markdown", 
            "source": "You can very easily explore the data in the IdaDataFrame by using built in functions.\n\nUse IdaDataFrame.head to get the first n records of your data set (default 5):"
        }, 
        {
            "execution_count": 22, 
            "outputs": [
                {
                    "output_type": "execute_result", 
                    "metadata": {}, 
                    "data": {
                        "text/html": "<div>\n<table border=\"1\" class=\"dataframe\">\n  <thead>\n    <tr style=\"text-align: right;\">\n      <th></th>\n      <th>COL1</th>\n      <th>COL2</th>\n    </tr>\n  </thead>\n  <tbody>\n    <tr>\n      <th>0</th>\n      <td>1</td>\n      <td>sam</td>\n    </tr>\n    <tr>\n      <th>1</th>\n      <td>2</td>\n      <td>sammy</td>\n    </tr>\n    <tr>\n      <th>2</th>\n      <td>3</td>\n      <td>sammm</td>\n    </tr>\n    <tr>\n      <th>3</th>\n      <td>4</td>\n      <td>sammm</td>\n    </tr>\n  </tbody>\n</table>\n</div>", 
                        "text/plain": "   COL1   COL2\n0     1    sam\n1     2  sammy\n2     3  sammm\n3     4  sammm"
                    }, 
                    "execution_count": 22
                }
            ], 
            "cell_type": "code", 
            "source": "idadf.head(5)", 
            "metadata": {}
        }, 
        {
            "metadata": {}, 
            "cell_type": "markdown", 
            "source": "Use IdaDataFrame.tail to get the last n records of your data set (default 5):"
        }, 
        {
            "execution_count": 14, 
            "outputs": [
                {
                    "output_type": "execute_result", 
                    "metadata": {}, 
                    "data": {
                        "text/html": "<div>\n<table border=\"1\" class=\"dataframe\">\n  <thead>\n    <tr style=\"text-align: right;\">\n      <th></th>\n      <th>a</th>\n      <th>b</th>\n      <th>c</th>\n    </tr>\n  </thead>\n  <tbody>\n    <tr>\n      <th>995</th>\n      <td>0.993420</td>\n      <td>0.094421</td>\n      <td>0.865005</td>\n    </tr>\n    <tr>\n      <th>996</th>\n      <td>0.995336</td>\n      <td>0.947233</td>\n      <td>0.121927</td>\n    </tr>\n    <tr>\n      <th>997</th>\n      <td>0.996716</td>\n      <td>0.244660</td>\n      <td>0.270721</td>\n    </tr>\n    <tr>\n      <th>998</th>\n      <td>0.997859</td>\n      <td>0.960528</td>\n      <td>0.303835</td>\n    </tr>\n    <tr>\n      <th>999</th>\n      <td>0.998129</td>\n      <td>0.460340</td>\n      <td>0.082556</td>\n    </tr>\n  </tbody>\n</table>\n</div>", 
                        "text/plain": "            a         b         c\n995  0.993420  0.094421  0.865005\n996  0.995336  0.947233  0.121927\n997  0.996716  0.244660  0.270721\n998  0.997859  0.960528  0.303835\n999  0.998129  0.460340  0.082556"
                    }, 
                    "execution_count": 14
                }
            ], 
            "cell_type": "code", 
            "source": "idadf.tail(5)", 
            "metadata": {}
        }, 
        {
            "metadata": {}, 
            "cell_type": "markdown", 
            "source": "__Note:__ Because dashDB operates on a distributed system, the order of rows using IdaDataFrame.head and IdaDataFrame.tail is not guaranteed unless the table is sorted (using an \u2018ORDER BY\u2019 clause) or a column is declared as index for the IdaDataFrame (parameter/attribute indexer).\n\nIdaDataFrame also implements most attributes that are available in a pandas DataFrame:"
        }, 
        {
            "execution_count": 15, 
            "outputs": [
                {
                    "output_type": "execute_result", 
                    "metadata": {}, 
                    "data": {
                        "text/plain": "(1000, 3)"
                    }, 
                    "execution_count": 15
                }
            ], 
            "cell_type": "code", 
            "source": "idadf.shape", 
            "metadata": {}
        }, 
        {
            "execution_count": 16, 
            "outputs": [
                {
                    "output_type": "execute_result", 
                    "metadata": {}, 
                    "data": {
                        "text/plain": "Index([u'a', u'b', u'c'], dtype='object')"
                    }, 
                    "execution_count": 16
                }
            ], 
            "cell_type": "code", 
            "source": "idadf.columns", 
            "metadata": {}
        }, 
        {
            "metadata": {}, 
            "cell_type": "markdown", 
            "source": "Several standard statistics functions from the pandas interface are also available for IdaDataFrame. For example, let us calculate the covariance matrix for the iris data set:"
        }, 
        {
            "execution_count": 17, 
            "outputs": [
                {
                    "output_type": "execute_result", 
                    "metadata": {}, 
                    "data": {
                        "text/html": "<div>\n<table border=\"1\" class=\"dataframe\">\n  <thead>\n    <tr style=\"text-align: right;\">\n      <th></th>\n      <th>a</th>\n      <th>b</th>\n      <th>c</th>\n    </tr>\n  </thead>\n  <tbody>\n    <tr>\n      <th>a</th>\n      <td>0.086190</td>\n      <td>-0.000708</td>\n      <td>-0.001692</td>\n    </tr>\n    <tr>\n      <th>b</th>\n      <td>-0.000708</td>\n      <td>0.082968</td>\n      <td>0.004055</td>\n    </tr>\n    <tr>\n      <th>c</th>\n      <td>-0.001692</td>\n      <td>0.004055</td>\n      <td>0.083621</td>\n    </tr>\n  </tbody>\n</table>\n</div>", 
                        "text/plain": "          a         b         c\na  0.086190 -0.000708 -0.001692\nb -0.000708  0.082968  0.004055\nc -0.001692  0.004055  0.083621"
                    }, 
                    "execution_count": 17
                }
            ], 
            "cell_type": "code", 
            "source": "idadf.cov()", 
            "metadata": {}
        }, 
        {
            "metadata": {}, 
            "cell_type": "markdown", 
            "source": "It is possible to subset the rows of an IdaDataFrame by accessing the IdaDataFrame with a slice object. You can also use the IdaDataFrame.loc attribute, which contains an ibmdbpy.Loc object. However, the row selection might be inaccurate if the current IdaDataFrame is not sorted or does not contain an indexer. This is due to the fact that dashDB stores the data across several nodes if available. Moreover, because dashDB is a column oriented database, row numbers are undefined:"
        }, 
        {
            "execution_count": 18, 
            "outputs": [
                {
                    "output_type": "stream", 
                    "name": "stderr", 
                    "text": "/usr/local/src/bluemix_jupyter_bundle.v49/notebook/lib/python2.7/site-packages/ibmdbpy/indexing.py:118: UserWarning: Row order is not guaranteed if no indexer was given and the dataset was not sorted\n  \" was given and the dataset was not sorted\")\n"
                }, 
                {
                    "output_type": "execute_result", 
                    "metadata": {}, 
                    "data": {
                        "text/html": "<div>\n<table border=\"1\" class=\"dataframe\">\n  <thead>\n    <tr style=\"text-align: right;\">\n      <th></th>\n      <th>a</th>\n      <th>b</th>\n      <th>c</th>\n    </tr>\n  </thead>\n  <tbody>\n    <tr>\n      <th>0</th>\n      <td>0.104889</td>\n      <td>0.091328</td>\n      <td>0.453921</td>\n    </tr>\n    <tr>\n      <th>1</th>\n      <td>0.146099</td>\n      <td>0.879081</td>\n      <td>0.561244</td>\n    </tr>\n    <tr>\n      <th>2</th>\n      <td>0.155241</td>\n      <td>0.662268</td>\n      <td>0.306728</td>\n    </tr>\n    <tr>\n      <th>3</th>\n      <td>0.297079</td>\n      <td>0.788550</td>\n      <td>0.506843</td>\n    </tr>\n    <tr>\n      <th>4</th>\n      <td>0.348437</td>\n      <td>0.370544</td>\n      <td>0.846393</td>\n    </tr>\n  </tbody>\n</table>\n</div>", 
                        "text/plain": "          a         b         c\n0  0.104889  0.091328  0.453921\n1  0.146099  0.879081  0.561244\n2  0.155241  0.662268  0.306728\n3  0.297079  0.788550  0.506843\n4  0.348437  0.370544  0.846393"
                    }, 
                    "execution_count": 18
                }
            ], 
            "cell_type": "code", 
            "source": "idadf_new = idadf[0:9] # Select the first 10 rows\nidadf_new.head()", 
            "metadata": {}
        }, 
        {
            "metadata": {}, 
            "cell_type": "markdown", 
            "source": "## Close the database connection\n\nTo ensure expected behaviors, IdaDataBase instances need to be closed. Closing the *IdaDataBase* is equivalent to closing the connection: once the connection is closed, it is no longer possible to use the *IdaDataBase* instance and any IdaDataFrame instances that were opened on this connection."
        }, 
        {
            "execution_count": 16, 
            "outputs": [
                {
                    "output_type": "stream", 
                    "name": "stdout", 
                    "text": "Connection closed.\n"
                }
            ], 
            "cell_type": "code", 
            "source": "idadb.close()", 
            "metadata": {}
        }, 
        {
            "metadata": {}, 
            "cell_type": "markdown", 
            "source": "## Summary\n\nThis notebook demonstrated how to establish a connection to a dashDB / DB2 database from Python using the ibmdbpy library."
        }, 
        {
            "metadata": {}, 
            "cell_type": "markdown", 
            "source": "## Want to learn more?\n### Free courses on <a href=\"https://bigdatauniversity.com/courses/?utm_source=tutorial-dashdb-python&utm_medium=github&utm_campaign=bdu/\" rel=\"noopener noreferrer\" target=\"_blank\">Big Data University</a>: <a href=\"https://bigdatauniversity.com/courses/?utm_source=tutorial-dashdb-python&utm_medium=github&utm_campaign=bdu\" rel=\"noopener noreferrer\" target=\"_blank\"><img src = \"https://ibm.box.com/shared/static/xomeu7dacwufkoawbg3owc8wzuezltn6.png\" width=600px> </a>"
        }, 
        {
            "metadata": {}, 
            "cell_type": "markdown", 
            "source": "### Authors\n\n**Saeed Aghabozorgi**, PhD, is a Data Scientist in IBM with a track record of developing enterprise-level applications that substantially increases clients' ability to turn data into actionable knowledge. He is a researcher in the data mining field and an expert in developing advanced analytic methods like machine learning and statistical modelling on large data sets.\n\n**Polong Lin** is a Data Scientist at IBM in Canada. Under the Emerging Technologies division, Polong is responsible for educating the next generation of data scientists through Big Data University. Polong is a regular speaker in conferences and meetups, and holds an M.Sc. in Cognitive Psychology."
        }, 
        {
            "metadata": {}, 
            "cell_type": "markdown", 
            "source": "Copyright \u00a9 2016, 2017 Big Data University. This notebook and its source code are released under the terms of the <a href=\"https://bigdatauniversity.com/mit-license/\" rel=\"noopener noreferrer\" target=\"_blank\">MIT License</a>."
        }
    ], 
    "nbformat": 4
}